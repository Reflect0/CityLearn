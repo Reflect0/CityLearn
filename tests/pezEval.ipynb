{
 "cells": [
  {
   "cell_type": "code",
   "execution_count": 1,
   "metadata": {},
   "outputs": [],
   "source": [
    "import multiprocessing\n",
    "import sys\n",
    "from pettingzoo.test import parallel_api_test\n",
    "from citylearn import GridLearn\n",
    "from citylearn import MyEnv\n",
    "from pathlib import Path\n",
    "from stable_baselines3.ppo import MlpPolicy\n",
    "from stable_baselines3 import PPO\n",
    "import gym\n",
    "import numpy as np\n",
    "import supersuit as ss\n",
    "from pathlib import Path\n",
    "from copy import copy, deepcopy\n",
    "import time"
   ]
  },
  {
   "cell_type": "code",
   "execution_count": 3,
   "metadata": {},
   "outputs": [
    {
     "name": "stdout",
     "output_type": "stream",
     "text": [
      "../citylearn/buildings_state_action_space.json\n"
     ]
    },
    {
     "name": "stderr",
     "output_type": "stream",
     "text": [
      "/Users/aislingpigott/Documents/CityLearn/citylearn/energy_models.py:508: RuntimeWarning: divide by zero encountered in true_divide\n",
      "  self.cooling_device.cop_cooling = self.cooling_device.eta_tech*(np.add(self.cooling_device.t_target_cooling,273.15))/np.subtract(self.sim_results['t_out'],self.cooling_device.t_target_cooling)\n",
      "/Users/aislingpigott/Documents/CityLearn/citylearn/energy_models.py:508: RuntimeWarning: divide by zero encountered in true_divide\n",
      "  self.cooling_device.cop_cooling = self.cooling_device.eta_tech*(np.add(self.cooling_device.t_target_cooling,273.15))/np.subtract(self.sim_results['t_out'],self.cooling_device.t_target_cooling)\n",
      "/Users/aislingpigott/Documents/CityLearn/citylearn/energy_models.py:508: RuntimeWarning: divide by zero encountered in true_divide\n",
      "  self.cooling_device.cop_cooling = self.cooling_device.eta_tech*(np.add(self.cooling_device.t_target_cooling,273.15))/np.subtract(self.sim_results['t_out'],self.cooling_device.t_target_cooling)\n",
      "/Users/aislingpigott/Documents/CityLearn/citylearn/energy_models.py:508: RuntimeWarning: divide by zero encountered in true_divide\n",
      "  self.cooling_device.cop_cooling = self.cooling_device.eta_tech*(np.add(self.cooling_device.t_target_cooling,273.15))/np.subtract(self.sim_results['t_out'],self.cooling_device.t_target_cooling)\n"
     ]
    },
    {
     "name": "stdout",
     "output_type": "stream",
     "text": [
      "padding action/observation spaces...\n",
      "creating pettingzoo env...\n",
      "stacking vec env...\n"
     ]
    }
   ],
   "source": [
    "climate_zone = 1\n",
    "data_path = Path(\"../citylearn/data/Climate_Zone_\"+str(climate_zone))\n",
    "buildings_states_actions = '../citylearn/buildings_state_action_space.json'\n",
    "\n",
    "config = {\n",
    "    \"data_path\":data_path,\n",
    "    \"climate_zone\":climate_zone,\n",
    "    \"buildings_states_actions_file\":buildings_states_actions,\n",
    "    \"hourly_timesteps\":4,\n",
    "    \"max_num_houses\":4\n",
    "}\n",
    "\n",
    "grid = GridLearn(**config)\n",
    "\n",
    "nenvs = 2\n",
    "envs = [MyEnv(grid), MyEnv(grid)]\n",
    "\n",
    "print('padding action/observation spaces...')\n",
    "envs = [ss.pad_action_space_v0(env) for env in envs]\n",
    "envs = [ss.pad_observations_v0(env) for env in envs]\n",
    "\n",
    "print('creating pettingzoo env...')\n",
    "envs = [ss.pettingzoo_env_to_vec_env_v0(env) for env in envs]\n",
    "\n",
    "print('stacking vec env...')\n",
    "nenvs = 2\n",
    "envs = [ss.concat_vec_envs_v0(env, nenvs, num_cpus=1, base_class='stable_baselines3') for env in envs]"
   ]
  },
  {
   "cell_type": "code",
   "execution_count": 5,
   "metadata": {},
   "outputs": [
    {
     "name": "stdout",
     "output_type": "stream",
     "text": [
      "setting the grid...\n",
      "Using cpu device\n",
      "Using cpu device\n",
      "Using cpu device\n",
      "Using cpu device\n"
     ]
    }
   ],
   "source": [
    "grids = [grid]\n",
    "for _ in range(nenvs-1):\n",
    "    grids += [deepcopy(grid)]\n",
    "\n",
    "print('setting the grid...')\n",
    "for env in envs:\n",
    "    for n in range(nenvs):\n",
    "        env.venv.vec_envs[n].par_env.aec_env.env.env.env.env.grid = grids[n]\n",
    "\n",
    "models = []\n",
    "for m in range(nenvs):\n",
    "    models += [PPO(MlpPolicy, env, verbose=2, gamma=0.999, batch_size=2, n_steps=1, ent_coef=0.01, learning_rate=0.00025, vf_coef=0.5, max_grad_norm=0.5, gae_lambda=0.95, n_epochs=4, clip_range=0.2, clip_range_vf=1) for env in envs]"
   ]
  },
  {
   "cell_type": "code",
   "execution_count": 7,
   "metadata": {},
   "outputs": [],
   "source": [
    "for m in range(nenvs):\n",
    "    models[m].save(f\"test_{m}\")"
   ]
  },
  {
   "cell_type": "code",
   "execution_count": 8,
   "metadata": {},
   "outputs": [],
   "source": [
    "for m in range(nenvs):\n",
    "    models[m].load(f\"test_{m}\")"
   ]
  },
  {
   "cell_type": "code",
   "execution_count": null,
   "metadata": {},
   "outputs": [],
   "source": [
    "# reset the models to test them\n",
    "obss = [team.reset() for team in teams]\n",
    "for ts in range(5): # test on 5 timesteps\n",
    "    for m in range(len(models)): # again, alternate through models\n",
    "\n",
    "        # get the current observation from the perspective of the active team\n",
    "        # this can probably be cleaned up\n",
    "        foo = []\n",
    "        for e in range(nenvs):\n",
    "            bar = list(teams[m].venv.vec_envs[n].par_env.aec_env.env.env.env.env.state().values())\n",
    "            for item in bar:\n",
    "                while len(item) < 29:\n",
    "                    item = np.append(item, 0)\n",
    "            foo += bar\n",
    "\n",
    "        foo = np.vstack(foo)\n",
    "        obss[m] = np.vstack(foo)\n",
    "\n",
    "        action = models[m].predict(obss[m])[0] # send it to the SB model to select an action\n",
    "        obss[m], reward, done, info = teams[m].step(action) # update environment"
   ]
  },
  {
   "cell_type": "code",
   "execution_count": null,
   "metadata": {},
   "outputs": [],
   "source": []
  }
 ],
 "metadata": {
  "kernelspec": {
   "display_name": "panda",
   "language": "python",
   "name": "panda"
  },
  "language_info": {
   "codemirror_mode": {
    "name": "ipython",
    "version": 3
   },
   "file_extension": ".py",
   "mimetype": "text/x-python",
   "name": "python",
   "nbconvert_exporter": "python",
   "pygments_lexer": "ipython3",
   "version": "3.7.9"
  }
 },
 "nbformat": 4,
 "nbformat_minor": 4
}
