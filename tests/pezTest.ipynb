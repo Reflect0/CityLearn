{
 "cells": [
  {
   "cell_type": "code",
   "execution_count": 1,
   "metadata": {},
   "outputs": [
    {
     "name": "stderr",
     "output_type": "stream",
     "text": [
      "/Users/aislingpigott/Documents/CityLearn/citylearn/energy_models.py:552: RuntimeWarning: divide by zero encountered in true_divide\n",
      "  self.cooling_device.cop_cooling = self.cooling_device.eta_tech*(np.add(self.cooling_device.t_target_cooling,273.15))/np.subtract(self.sim_results['t_out'],self.cooling_device.t_target_cooling)\n",
      "/Users/aislingpigott/Documents/CityLearn/citylearn/energy_models.py:552: RuntimeWarning: divide by zero encountered in true_divide\n",
      "  self.cooling_device.cop_cooling = self.cooling_device.eta_tech*(np.add(self.cooling_device.t_target_cooling,273.15))/np.subtract(self.sim_results['t_out'],self.cooling_device.t_target_cooling)\n",
      "/Users/aislingpigott/Documents/CityLearn/citylearn/energy_models.py:552: RuntimeWarning: divide by zero encountered in true_divide\n",
      "  self.cooling_device.cop_cooling = self.cooling_device.eta_tech*(np.add(self.cooling_device.t_target_cooling,273.15))/np.subtract(self.sim_results['t_out'],self.cooling_device.t_target_cooling)\n",
      "/Users/aislingpigott/Documents/CityLearn/citylearn/energy_models.py:552: RuntimeWarning: divide by zero encountered in true_divide\n",
      "  self.cooling_device.cop_cooling = self.cooling_device.eta_tech*(np.add(self.cooling_device.t_target_cooling,273.15))/np.subtract(self.sim_results['t_out'],self.cooling_device.t_target_cooling)\n",
      "/Users/aislingpigott/Documents/CityLearn/citylearn/energy_models.py:552: RuntimeWarning: divide by zero encountered in true_divide\n",
      "  self.cooling_device.cop_cooling = self.cooling_device.eta_tech*(np.add(self.cooling_device.t_target_cooling,273.15))/np.subtract(self.sim_results['t_out'],self.cooling_device.t_target_cooling)\n",
      "/Users/aislingpigott/Documents/CityLearn/citylearn/energy_models.py:552: RuntimeWarning: divide by zero encountered in true_divide\n",
      "  self.cooling_device.cop_cooling = self.cooling_device.eta_tech*(np.add(self.cooling_device.t_target_cooling,273.15))/np.subtract(self.sim_results['t_out'],self.cooling_device.t_target_cooling)\n",
      "/Users/aislingpigott/Documents/CityLearn/citylearn/energy_models.py:552: RuntimeWarning: divide by zero encountered in true_divide\n",
      "  self.cooling_device.cop_cooling = self.cooling_device.eta_tech*(np.add(self.cooling_device.t_target_cooling,273.15))/np.subtract(self.sim_results['t_out'],self.cooling_device.t_target_cooling)\n",
      "/Users/aislingpigott/Documents/CityLearn/citylearn/energy_models.py:552: RuntimeWarning: divide by zero encountered in true_divide\n",
      "  self.cooling_device.cop_cooling = self.cooling_device.eta_tech*(np.add(self.cooling_device.t_target_cooling,273.15))/np.subtract(self.sim_results['t_out'],self.cooling_device.t_target_cooling)\n"
     ]
    },
    {
     "name": "stdout",
     "output_type": "stream",
     "text": [
      "padding action/observation spaces...\n",
      "creating pettingzoo env...\n",
      "stacking vec env...\n"
     ]
    }
   ],
   "source": [
    "import multiprocessing\n",
    "import sys\n",
    "from pettingzoo.test import parallel_api_test\n",
    "from citylearn import GridLearn\n",
    "from citylearn import MyEnv\n",
    "from pathlib import Path\n",
    "from stable_baselines3.ppo import MlpPolicy\n",
    "from stable_baselines3 import PPO\n",
    "import gym\n",
    "import numpy as np\n",
    "import supersuit as ss\n",
    "\n",
    "import time\n",
    "\n",
    "# multiprocessing.set_start_method(\"fork\")\n",
    "\n",
    "climate_zone = 1\n",
    "data_path = Path(\"../citylearn/data/Climate_Zone_\"+str(climate_zone))\n",
    "buildings_states_actions = '../citylearn/buildings_state_action_space.json'\n",
    "\n",
    "config = {\n",
    "    \"model_name\":\"small_test\",\n",
    "    \"data_path\":data_path,\n",
    "    \"climate_zone\":climate_zone,\n",
    "    \"buildings_states_actions_file\":buildings_states_actions,\n",
    "    \"hourly_timesteps\":4,\n",
    "#     \"percent_rl\":0.1,\n",
    "    \"percent_rl\":1,\n",
    "    \"nclusters\":4,\n",
    "#     \"max_num_houses\":None\n",
    "    \"max_num_houses\":12\n",
    "}\n",
    "\n",
    "grid = GridLearn(**config)\n",
    "\n",
    "envs = [MyEnv(grid) for _ in range(config['nclusters'])]\n",
    "\n",
    "print('padding action/observation spaces...')\n",
    "envs = [ss.pad_action_space_v0(env) for env in envs]\n",
    "envs = [ss.pad_observations_v0(env) for env in envs]\n",
    "\n",
    "print('creating pettingzoo env...')\n",
    "envs = [ss.pettingzoo_env_to_vec_env_v0(env) for env in envs]\n",
    "\n",
    "print('stacking vec env...')\n",
    "nenvs = 2\n",
    "envs = [ss.concat_vec_envs_v0(env, nenvs, num_cpus=1, base_class='stable_baselines3') for env in envs]\n"
   ]
  },
  {
   "cell_type": "code",
   "execution_count": 2,
   "metadata": {},
   "outputs": [],
   "source": [
    "from copy import deepcopy\n",
    "grid2 = deepcopy(grid)"
   ]
  },
  {
   "cell_type": "code",
   "execution_count": 3,
   "metadata": {},
   "outputs": [],
   "source": [
    "grids = [grid, grid2]"
   ]
  },
  {
   "cell_type": "code",
   "execution_count": 4,
   "metadata": {},
   "outputs": [
    {
     "name": "stdout",
     "output_type": "stream",
     "text": [
      "setting the grid...\n"
     ]
    }
   ],
   "source": [
    "print('setting the grid...')\n",
    "for env in envs:\n",
    "    for n in range(nenvs):\n",
    "        env.venv.vec_envs[n].par_env.aec_env.env.env.env.env.grid = grids[n]\n",
    "        env.venv.vec_envs[n].par_env.aec_env.env.env.env.env.initialize_rbc_agents()"
   ]
  },
  {
   "cell_type": "code",
   "execution_count": 5,
   "metadata": {},
   "outputs": [],
   "source": [
    "env.venv.vec_envs[n].par_env.aec_env.env.env.env.env.grid.net.ext_grid.at[0,'vm_pu'] = 1.02"
   ]
  },
  {
   "cell_type": "code",
   "execution_count": 6,
   "metadata": {},
   "outputs": [
    {
     "name": "stdout",
     "output_type": "stream",
     "text": [
      "Using cpu device\n",
      "Using cpu device\n",
      "Using cpu device\n",
      "Using cpu device\n"
     ]
    }
   ],
   "source": [
    "models = [PPO(MlpPolicy, env, verbose=2, gamma=0.999, batch_size=2, n_steps=1, ent_coef=0.01, learning_rate=0.00025, vf_coef=0.5, max_grad_norm=0.5, gae_lambda=0.95, n_epochs=4, clip_range=0.2, clip_range_vf=1) for env in envs]"
   ]
  },
  {
   "cell_type": "code",
   "execution_count": 20,
   "metadata": {},
   "outputs": [
    {
     "data": {
      "text/plain": [
       "['__abstractmethods__',\n",
       " '__class__',\n",
       " '__delattr__',\n",
       " '__dict__',\n",
       " '__dir__',\n",
       " '__doc__',\n",
       " '__eq__',\n",
       " '__format__',\n",
       " '__ge__',\n",
       " '__getattribute__',\n",
       " '__gt__',\n",
       " '__hash__',\n",
       " '__init__',\n",
       " '__init_subclass__',\n",
       " '__le__',\n",
       " '__lt__',\n",
       " '__module__',\n",
       " '__ne__',\n",
       " '__new__',\n",
       " '__reduce__',\n",
       " '__reduce_ex__',\n",
       " '__repr__',\n",
       " '__setattr__',\n",
       " '__sizeof__',\n",
       " '__slots__',\n",
       " '__str__',\n",
       " '__subclasshook__',\n",
       " '__weakref__',\n",
       " '_abc_impl',\n",
       " '_current_progress_remaining',\n",
       " '_episode_num',\n",
       " '_excluded_save_params',\n",
       " '_get_eval_env',\n",
       " '_get_torch_save_params',\n",
       " '_init_callback',\n",
       " '_last_dones',\n",
       " '_last_obs',\n",
       " '_last_original_obs',\n",
       " '_n_updates',\n",
       " '_setup_learn',\n",
       " '_setup_lr_schedule',\n",
       " '_setup_model',\n",
       " '_total_timesteps',\n",
       " '_update_current_progress_remaining',\n",
       " '_update_info_buffer',\n",
       " '_update_learning_rate',\n",
       " '_vec_normalize_env',\n",
       " '_wrap_env',\n",
       " 'action_noise',\n",
       " 'action_space',\n",
       " 'batch_size',\n",
       " 'clip_range',\n",
       " 'clip_range_vf',\n",
       " 'collect_rollouts',\n",
       " 'device',\n",
       " 'ent_coef',\n",
       " 'env',\n",
       " 'ep_info_buffer',\n",
       " 'ep_success_buffer',\n",
       " 'eval_env',\n",
       " 'gae_lambda',\n",
       " 'gamma',\n",
       " 'get_env',\n",
       " 'get_parameters',\n",
       " 'get_vec_normalize_env',\n",
       " 'learn',\n",
       " 'learning_rate',\n",
       " 'load',\n",
       " 'lr_schedule',\n",
       " 'max_grad_norm',\n",
       " 'n_envs',\n",
       " 'n_epochs',\n",
       " 'n_steps',\n",
       " 'num_timesteps',\n",
       " 'observation_space',\n",
       " 'policy',\n",
       " 'policy_class',\n",
       " 'policy_kwargs',\n",
       " 'predict',\n",
       " 'rollout_buffer',\n",
       " 'save',\n",
       " 'sde_sample_freq',\n",
       " 'seed',\n",
       " 'set_env',\n",
       " 'set_parameters',\n",
       " 'set_random_seed',\n",
       " 'start_time',\n",
       " 'target_kl',\n",
       " 'tensorboard_log',\n",
       " 'train',\n",
       " 'use_sde',\n",
       " 'verbose',\n",
       " 'vf_coef']"
      ]
     },
     "execution_count": 20,
     "metadata": {},
     "output_type": "execute_result"
    }
   ],
   "source": [
    "dir(models[0])"
   ]
  },
  {
   "cell_type": "code",
   "execution_count": 17,
   "metadata": {},
   "outputs": [
    {
     "name": "stdout",
     "output_type": "stream",
     "text": [
      "0     0.006063\n",
      "1     0.042300\n",
      "2     0.006765\n",
      "3     0.006774\n",
      "4     0.001505\n",
      "5     0.014772\n",
      "6     0.006259\n",
      "7     0.006827\n",
      "8     0.006488\n",
      "9     0.049392\n",
      "10    0.006735\n",
      "11    0.015067\n",
      "Name: p_mw, dtype: float64\n",
      "0     0.006063\n",
      "1     0.042300\n",
      "2     0.006765\n",
      "3     0.006774\n",
      "4     0.001505\n",
      "5     0.014772\n",
      "6     0.006259\n",
      "7     0.006827\n",
      "8     0.006488\n",
      "9     0.049392\n",
      "10    0.006735\n",
      "11    0.015067\n",
      "Name: p_mw, dtype: float64\n",
      "0     0.006063\n",
      "1     0.042300\n",
      "2     0.006765\n",
      "3     0.006774\n",
      "4     0.001505\n",
      "5     0.014772\n",
      "6     0.006259\n",
      "7     0.006827\n",
      "8     0.006488\n",
      "9     0.049392\n",
      "10    0.006735\n",
      "11    0.015067\n",
      "Name: p_mw, dtype: float64\n",
      "0     0.006063\n",
      "1     0.042300\n",
      "2     0.006765\n",
      "3     0.006774\n",
      "4     0.001505\n",
      "5     0.014772\n",
      "6     0.006259\n",
      "7     0.006827\n",
      "8     0.006488\n",
      "9     0.049392\n",
      "10    0.006735\n",
      "11    0.015067\n",
      "Name: p_mw, dtype: float64\n"
     ]
    }
   ],
   "source": [
    "for e in envs:\n",
    "#     print(e.venv.vec_envs[n].par_env.aec_env.env.env.env.env.agents, e.venv.vec_envs[n].par_env.aec_env.env.env.env.env.rbc_buildings)\n",
    "    print(e.venv.vec_envs[n].par_env.aec_env.env.env.env.env.grid.net.load['p_mw'])"
   ]
  },
  {
   "cell_type": "code",
   "execution_count": 21,
   "metadata": {},
   "outputs": [
    {
     "name": "stdout",
     "output_type": "stream",
     "text": [
      "<class 'supersuit.aec_wrappers.pad_observations'>\n",
      "<class 'supersuit.aec_wrappers.pad_observations'>\n",
      "------------------------------------------\n",
      "| time/                   |              |\n",
      "|    fps                  | 39           |\n",
      "|    iterations           | 1            |\n",
      "|    time_elapsed         | 0            |\n",
      "|    total_timesteps      | 12           |\n",
      "| train/                  |              |\n",
      "|    approx_kl            | -0.005277872 |\n",
      "|    clip_fraction        | 0            |\n",
      "|    clip_range           | 0.2          |\n",
      "|    clip_range_vf        | 1            |\n",
      "|    entropy_loss         | -7.09        |\n",
      "|    explained_variance   | 0.952        |\n",
      "|    learning_rate        | 0.00025      |\n",
      "|    loss                 | -0.0696      |\n",
      "|    n_updates            | 20           |\n",
      "|    policy_gradient_loss | -0.00392     |\n",
      "|    std                  | 1            |\n",
      "|    value_loss           | 0.00117      |\n",
      "------------------------------------------\n",
      "<class 'supersuit.aec_wrappers.pad_observations'>\n",
      "<class 'supersuit.aec_wrappers.pad_observations'>\n",
      "<class 'supersuit.aec_wrappers.pad_observations'>\n",
      "<class 'supersuit.aec_wrappers.pad_observations'>\n",
      "------------------------------------------\n",
      "| time/                   |              |\n",
      "|    fps                  | 164          |\n",
      "|    iterations           | 1            |\n",
      "|    time_elapsed         | 0            |\n",
      "|    total_timesteps      | 24           |\n",
      "| train/                  |              |\n",
      "|    approx_kl            | -0.013007402 |\n",
      "|    clip_fraction        | 0            |\n",
      "|    clip_range           | 0.2          |\n",
      "|    clip_range_vf        | 1            |\n",
      "|    entropy_loss         | -7.09        |\n",
      "|    explained_variance   | 0.961        |\n",
      "|    learning_rate        | 0.00025      |\n",
      "|    loss                 | -0.0754      |\n",
      "|    n_updates            | 24           |\n",
      "|    policy_gradient_loss | -0.000989    |\n",
      "|    std                  | 0.999        |\n",
      "|    value_loss           | 0.00192      |\n",
      "------------------------------------------\n",
      "<class 'supersuit.aec_wrappers.pad_observations'>\n",
      "<class 'supersuit.aec_wrappers.pad_observations'>\n",
      "<class 'supersuit.aec_wrappers.pad_observations'>\n",
      "<class 'supersuit.aec_wrappers.pad_observations'>\n",
      "-----------------------------------------\n",
      "| time/                   |             |\n",
      "|    fps                  | 151         |\n",
      "|    iterations           | 1           |\n",
      "|    time_elapsed         | 0           |\n",
      "|    total_timesteps      | 24          |\n",
      "| train/                  |             |\n",
      "|    approx_kl            | 0.009969711 |\n",
      "|    clip_fraction        | 0           |\n",
      "|    clip_range           | 0.2         |\n",
      "|    clip_range_vf        | 1           |\n",
      "|    entropy_loss         | -7.09       |\n",
      "|    explained_variance   | -1.94       |\n",
      "|    learning_rate        | 0.00025     |\n",
      "|    loss                 | -0.0891     |\n",
      "|    n_updates            | 24          |\n",
      "|    policy_gradient_loss | 0.00565     |\n",
      "|    std                  | 1           |\n",
      "|    value_loss           | 0.00133     |\n",
      "-----------------------------------------\n",
      "<class 'supersuit.aec_wrappers.pad_observations'>\n",
      "<class 'supersuit.aec_wrappers.pad_observations'>\n",
      "<class 'supersuit.aec_wrappers.pad_observations'>\n",
      "<class 'supersuit.aec_wrappers.pad_observations'>\n",
      "----------------------------------------\n",
      "| time/                   |            |\n",
      "|    fps                  | 171        |\n",
      "|    iterations           | 1          |\n",
      "|    time_elapsed         | 0          |\n",
      "|    total_timesteps      | 24         |\n",
      "| train/                  |            |\n",
      "|    approx_kl            | 0.00640893 |\n",
      "|    clip_fraction        | 0          |\n",
      "|    clip_range           | 0.2        |\n",
      "|    clip_range_vf        | 1          |\n",
      "|    entropy_loss         | -7.09      |\n",
      "|    explained_variance   | 0.894      |\n",
      "|    learning_rate        | 0.00025    |\n",
      "|    loss                 | -0.106     |\n",
      "|    n_updates            | 24         |\n",
      "|    policy_gradient_loss | -0.0127    |\n",
      "|    std                  | 1          |\n",
      "|    value_loss           | 0.00104    |\n",
      "----------------------------------------\n"
     ]
    }
   ],
   "source": [
    "for _ in range(1):\n",
    "    for model in models:\n",
    "        model.learn(1, reset_num_timesteps=False)"
   ]
  },
  {
   "cell_type": "code",
   "execution_count": null,
   "metadata": {},
   "outputs": [],
   "source": [
    "Name: p_mw, dtype: float64\n",
    "0     0.006063\n",
    "1     0.042300\n",
    "2     0.006765\n",
    "3     0.006774\n",
    "4     0.001505\n",
    "5     0.014772\n",
    "6     0.006259\n",
    "7     0.006827\n",
    "8     0.006488\n",
    "9     0.049392\n",
    "10    0.006735\n",
    "11    0.015067"
   ]
  },
  {
   "cell_type": "code",
   "execution_count": 22,
   "metadata": {},
   "outputs": [
    {
     "name": "stdout",
     "output_type": "stream",
     "text": [
      "0     0.006380\n",
      "1     0.006682\n",
      "2     0.030658\n",
      "3     0.006920\n",
      "4     0.001533\n",
      "5     0.025480\n",
      "6     0.019058\n",
      "7     0.006847\n",
      "8     0.006741\n",
      "9     0.006956\n",
      "10    0.006293\n",
      "11    0.006603\n",
      "Name: p_mw, dtype: float64\n",
      "0     0.006380\n",
      "1     0.006682\n",
      "2     0.030658\n",
      "3     0.006920\n",
      "4     0.001533\n",
      "5     0.025480\n",
      "6     0.019058\n",
      "7     0.006847\n",
      "8     0.006741\n",
      "9     0.006956\n",
      "10    0.006293\n",
      "11    0.006603\n",
      "Name: p_mw, dtype: float64\n",
      "0     0.006380\n",
      "1     0.006682\n",
      "2     0.030658\n",
      "3     0.006920\n",
      "4     0.001533\n",
      "5     0.025480\n",
      "6     0.019058\n",
      "7     0.006847\n",
      "8     0.006741\n",
      "9     0.006956\n",
      "10    0.006293\n",
      "11    0.006603\n",
      "Name: p_mw, dtype: float64\n",
      "0     0.006380\n",
      "1     0.006682\n",
      "2     0.030658\n",
      "3     0.006920\n",
      "4     0.001533\n",
      "5     0.025480\n",
      "6     0.019058\n",
      "7     0.006847\n",
      "8     0.006741\n",
      "9     0.006956\n",
      "10    0.006293\n",
      "11    0.006603\n",
      "Name: p_mw, dtype: float64\n"
     ]
    }
   ],
   "source": [
    "for e in envs:\n",
    "#     print(e.venv.vec_envs[n].par_env.aec_env.env.env.env.env.agents, e.venv.vec_envs[n].par_env.aec_env.env.env.env.env.rbc_buildings)\n",
    "    print(e.venv.vec_envs[n].par_env.aec_env.env.env.env.env.grid.net.load['p_mw'])"
   ]
  },
  {
   "cell_type": "code",
   "execution_count": 14,
   "metadata": {},
   "outputs": [
    {
     "ename": "AttributeError",
     "evalue": "agents",
     "output_type": "error",
     "traceback": [
      "\u001b[0;31m---------------------------------------------------------------------------\u001b[0m",
      "\u001b[0;31mAttributeError\u001b[0m                            Traceback (most recent call last)",
      "\u001b[0;32m<ipython-input-14-921f407becab>\u001b[0m in \u001b[0;36m<module>\u001b[0;34m()\u001b[0m\n\u001b[0;32m----> 1\u001b[0;31m \u001b[0menvs\u001b[0m\u001b[0;34m[\u001b[0m\u001b[0;36m0\u001b[0m\u001b[0;34m]\u001b[0m\u001b[0;34m.\u001b[0m\u001b[0magents\u001b[0m\u001b[0;34m\u001b[0m\u001b[0;34m\u001b[0m\u001b[0m\n\u001b[0m",
      "\u001b[0;32m/opt/anaconda3/envs/panda/lib/python3.7/site-packages/stable_baselines3/common/vec_env/base_vec_env.py\u001b[0m in \u001b[0;36m__getattr__\u001b[0;34m(self, name)\u001b[0m\n\u001b[1;32m    312\u001b[0m             \u001b[0;32mraise\u001b[0m \u001b[0mAttributeError\u001b[0m\u001b[0;34m(\u001b[0m\u001b[0merror_str\u001b[0m\u001b[0;34m)\u001b[0m\u001b[0;34m\u001b[0m\u001b[0;34m\u001b[0m\u001b[0m\n\u001b[1;32m    313\u001b[0m \u001b[0;34m\u001b[0m\u001b[0m\n\u001b[0;32m--> 314\u001b[0;31m         \u001b[0;32mreturn\u001b[0m \u001b[0mself\u001b[0m\u001b[0;34m.\u001b[0m\u001b[0mgetattr_recursive\u001b[0m\u001b[0;34m(\u001b[0m\u001b[0mname\u001b[0m\u001b[0;34m)\u001b[0m\u001b[0;34m\u001b[0m\u001b[0;34m\u001b[0m\u001b[0m\n\u001b[0m\u001b[1;32m    315\u001b[0m \u001b[0;34m\u001b[0m\u001b[0m\n\u001b[1;32m    316\u001b[0m     \u001b[0;32mdef\u001b[0m \u001b[0m_get_all_attributes\u001b[0m\u001b[0;34m(\u001b[0m\u001b[0mself\u001b[0m\u001b[0;34m)\u001b[0m \u001b[0;34m->\u001b[0m \u001b[0mDict\u001b[0m\u001b[0;34m[\u001b[0m\u001b[0mstr\u001b[0m\u001b[0;34m,\u001b[0m \u001b[0mAny\u001b[0m\u001b[0;34m]\u001b[0m\u001b[0;34m:\u001b[0m\u001b[0;34m\u001b[0m\u001b[0;34m\u001b[0m\u001b[0m\n",
      "\u001b[0;32m/opt/anaconda3/envs/panda/lib/python3.7/site-packages/supersuit/vector/sb3_vector_wrapper.py\u001b[0m in \u001b[0;36mgetattr_recursive\u001b[0;34m(self, name)\u001b[0m\n\u001b[1;32m     21\u001b[0m \u001b[0;34m\u001b[0m\u001b[0m\n\u001b[1;32m     22\u001b[0m     \u001b[0;32mdef\u001b[0m \u001b[0mgetattr_recursive\u001b[0m\u001b[0;34m(\u001b[0m\u001b[0mself\u001b[0m\u001b[0;34m,\u001b[0m \u001b[0mname\u001b[0m\u001b[0;34m)\u001b[0m\u001b[0;34m:\u001b[0m\u001b[0;34m\u001b[0m\u001b[0;34m\u001b[0m\u001b[0m\n\u001b[0;32m---> 23\u001b[0;31m         \u001b[0;32mraise\u001b[0m \u001b[0mAttributeError\u001b[0m\u001b[0;34m(\u001b[0m\u001b[0mname\u001b[0m\u001b[0;34m)\u001b[0m\u001b[0;34m\u001b[0m\u001b[0;34m\u001b[0m\u001b[0m\n\u001b[0m\u001b[1;32m     24\u001b[0m \u001b[0;34m\u001b[0m\u001b[0m\n\u001b[1;32m     25\u001b[0m     \u001b[0;32mdef\u001b[0m \u001b[0mgetattr_depth_check\u001b[0m\u001b[0;34m(\u001b[0m\u001b[0mself\u001b[0m\u001b[0;34m,\u001b[0m \u001b[0mname\u001b[0m\u001b[0;34m,\u001b[0m \u001b[0malready_found\u001b[0m\u001b[0;34m)\u001b[0m\u001b[0;34m:\u001b[0m\u001b[0;34m\u001b[0m\u001b[0;34m\u001b[0m\u001b[0m\n",
      "\u001b[0;31mAttributeError\u001b[0m: agents"
     ]
    }
   ],
   "source": [
    "envs[0].agents"
   ]
  },
  {
   "cell_type": "code",
   "execution_count": 27,
   "metadata": {
    "scrolled": true
   },
   "outputs": [
    {
     "data": {
      "image/png": "[encoded data removed]",
      "text/plain": [
       "<Figure size 720x2160 with 12 Axes>"
      ]
     },
     "metadata": {
      "needs_background": "light"
     },
     "output_type": "display_data"
    }
   ],
   "source": [
    "import matplotlib.pyplot as plt\n",
    "\n",
    "fig, ax = plt.subplots(12, figsize=(10,30))\n",
    "\n",
    "for i in range(12):\n",
    "    ax[i].plot(np.arange(24), np.array(grid.load_data)[:,i])\n",
    "    ax[i].set_title(list(grid.buildings.keys())[i])\n",
    "    \n",
    "plt.show()"
   ]
  },
  {
   "cell_type": "code",
   "execution_count": 37,
   "metadata": {},
   "outputs": [
    {
     "data": {
      "text/plain": [
       "Counter({5: 10, 3: 2})"
      ]
     },
     "execution_count": 37,
     "metadata": {},
     "output_type": "execute_result"
    }
   ],
   "source": [
    "from collections import Counter\n",
    "\n",
    "types = [v.building_type for v in grid.buildings.values()]\n",
    "Counter(types)"
   ]
  },
  {
   "cell_type": "code",
   "execution_count": null,
   "metadata": {
    "scrolled": true
   },
   "outputs": [],
   "source": [
    "obss = [env.reset() for env in envs]\n",
    "for _ in range(5):\n",
    "    for m in range(len(models)):\n",
    "        \n",
    "        # get the current observation from the perspective of this team\n",
    "        foo = []\n",
    "        for e in range(nenvs):\n",
    "            bar = list(envs[m].venv.vec_envs[e].par_env.aec_env.env.state().values())\n",
    "            for i in range(len(bar)):\n",
    "                while len(bar[i]) < 19:\n",
    "                    bar[i] = np.append(bar[i], 0)\n",
    "            foo += bar\n",
    "\n",
    "        foo = np.vstack(foo)\n",
    "        obss[m] = np.vstack(foo)\n",
    "\n",
    "        action = models[m].predict(obss[m])[0]\n",
    "        obss[m], reward, done, info = envs[m].step(action)\n",
    "        print(\"reward\",np.sum(reward))"
   ]
  },
  {
   "cell_type": "code",
   "execution_count": null,
   "metadata": {},
   "outputs": [],
   "source": []
  }
 ],
 "metadata": {
  "kernelspec": {
   "display_name": "panda",
   "language": "python",
   "name": "panda"
  },
  "language_info": {
   "codemirror_mode": {
    "name": "ipython",
    "version": 3
   },
   "file_extension": ".py",
   "mimetype": "text/x-python",
   "name": "python",
   "nbconvert_exporter": "python",
   "pygments_lexer": "ipython3",
   "version": "3.7.9"
  }
 },
 "nbformat": 4,
 "nbformat_minor": 4
}
