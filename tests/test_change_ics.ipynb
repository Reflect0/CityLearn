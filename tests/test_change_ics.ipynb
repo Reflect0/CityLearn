{
 "cells": [
  {
   "cell_type": "code",
   "execution_count": 2,
   "metadata": {},
   "outputs": [],
   "source": [
    "import os\n",
    "import numpy as np\n",
    "\n",
    "from dymola.dymola_interface import DymolaInterface"
   ]
  },
  {
   "cell_type": "code",
   "execution_count": 3,
   "metadata": {},
   "outputs": [
    {
     "name": "stdout",
     "output_type": "stream",
     "text": [
      "True 2.59116048815594 [1.1508305792470035]\n",
      "True 1.1430480607475506 [0.9542416024509685]\n",
      "True 2.203520640490759 [1.1071722181142996]\n",
      "True 1.200115155253625 [0.9635388923255312]\n",
      "True 2.393719699118236 [0.866135977506284]\n",
      "True 2.035985785158187 [0.8891453255514418]\n",
      "True 1.5565532532052921 [1.0193416910644928]\n",
      "True 1.5139589249830947 [1.0129159051996135]\n",
      "True 2.2462148309638077 [1.1122975567799682]\n",
      "True 1.5171304513951258 [1.0133968755146632]\n"
     ]
    }
   ],
   "source": [
    "start = 0\n",
    "stop = 0.2\n",
    "dt = 0.2\n",
    "\n",
    "dymolaInstance = None\n",
    "dymolaInstance = DymolaInterface()\n",
    "\n",
    "_cd = os.getcwd()\n",
    "_openipsl_path = os.path.abspath('z:\\Documents\\Dymola\\Library\\OpenIPSL_1.5\\OpenIPSL\\package.mo')\n",
    "_model_path = os.path.abspath(os.path.join(_cd, \"SMIB\", \"package.mo\"))\n",
    "\n",
    "dymolaInstance.cd(_cd)\n",
    "\n",
    "# Loading OpenIPSL\n",
    "dymolaInstance.openModel(_openipsl_path, changeDirectory = False)\n",
    "\n",
    "# Opening model\n",
    "dymolaInstance.openModel(_model_path, changeDirectory = False)\n",
    "for n in range(10):\n",
    "    \n",
    "    if n == 0:\n",
    "        pass\n",
    "    else:\n",
    "        # Import final conditions of last step as initial conditions for this simulation\n",
    "        dymolaInstance.importInitialResult(f\"test_initial_step_{n-1}\", atTime = start)     \n",
    "        \n",
    "    generator_reference = np.random.uniform(low = 1.1, high = 3.0)\n",
    "    \n",
    "    ok, values = dymolaInstance.simulateExtendedModel(\"SMIB.SMIB_Base_Case\", \n",
    "                                         startTime = start, \n",
    "                                         stopTime = stop, \n",
    "                                         resultFile = f\"test_initial_step_{n}\",\n",
    "                                         initialNames = [\"gen01_1.v_ref.k\"],\n",
    "                                         initialValues = [generator_reference], finalNames = [\"B01.V\"])\n",
    "    \n",
    "    start += dt\n",
    "    stop += dt\n",
    "    \n",
    "    print(ok, generator_reference, values)\n",
    "\n",
    "if dymolaInstance is not None:\n",
    "    dymolaInstance.close()\n",
    "    dymolaInstance = None\n",
    "\n",
    "assert dymolaInstance == None"
   ]
  },
  {
   "cell_type": "code",
   "execution_count": null,
   "metadata": {},
   "outputs": [],
   "source": []
  }
 ],
 "metadata": {
  "kernelspec": {
   "display_name": "Python 3",
   "language": "python",
   "name": "python3"
  },
  "language_info": {
   "codemirror_mode": {
    "name": "ipython",
    "version": 3
   },
   "file_extension": ".py",
   "mimetype": "text/x-python",
   "name": "python",
   "nbconvert_exporter": "python",
   "pygments_lexer": "ipython3",
   "version": "3.7.9"
  }
 },
 "nbformat": 4,
 "nbformat_minor": 4
}
