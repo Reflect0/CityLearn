{
 "cells": [
  {
   "cell_type": "code",
   "execution_count": 1,
   "metadata": {
    "scrolled": true
   },
   "outputs": [
    {
     "name": "stdout",
     "output_type": "stream",
     "text": [
      "Counter({7: 8, 9: 7, 6: 4, 5: 4, 8: 4, 2: 3, 1: 2})\n"
     ]
    }
   ],
   "source": [
    "import multiprocessing\n",
    "import sys\n",
    "from pettingzoo.test import parallel_api_test\n",
    "from citylearn import GridLearn\n",
    "from citylearn import MyEnv\n",
    "from pathlib import Path\n",
    "from stable_baselines3.ppo import MlpPolicy\n",
    "from stable_baselines3 import PPO\n",
    "import gym\n",
    "import numpy as np\n",
    "import supersuit as ss\n",
    "\n",
    "import time\n",
    "\n",
    "climate_zone = 1\n",
    "data_path = Path(\"../citylearn/data/Climate_Zone_\"+str(climate_zone))\n",
    "buildings_states_actions = '../citylearn/buildings_state_action_space.json'\n",
    "\n",
    "config = {\n",
    "    \"model_name\":\"test\",\n",
    "    \"data_path\":data_path,\n",
    "    \"climate_zone\":climate_zone,\n",
    "    \"buildings_states_actions_file\":buildings_states_actions,\n",
    "    \"hourly_timesteps\":4,\n",
    "    \"max_num_houses\":32\n",
    "}\n",
    "\n",
    "grid = GridLearn(**config)\n",
    "\n",
    "climate_zone = 5\n",
    "data_path = Path(\"../citylearn/data/Climate_Zone_\"+str(climate_zone))\n",
    "buildings_states_actions = '../citylearn/buildings_state_action_space.json'\n",
    "\n",
    "config = {\n",
    "    \"model_name\":\"test\",\n",
    "    \"data_path\":data_path,\n",
    "    \"climate_zone\":climate_zone,\n",
    "    \"buildings_states_actions_file\":buildings_states_actions,\n",
    "    \"hourly_timesteps\":4,\n",
    "    \"max_num_houses\":32\n",
    "}\n"
   ]
  },
  {
   "cell_type": "code",
   "execution_count": 2,
   "metadata": {},
   "outputs": [
    {
     "name": "stdout",
     "output_type": "stream",
     "text": [
      "creating pettingzoo env...\n"
     ]
    }
   ],
   "source": [
    "envs = [MyEnv(grid), MyEnv(grid)]\n",
    "\n",
    "# print('padding action/observation spaces...')\n",
    "# envs = [ss.pad_action_space_v0(env) for env in envs]\n",
    "# envs = [ss.pad_observations_v0(env) for env in envs]\n",
    "\n",
    "print('creating pettingzoo env...')\n",
    "envs = [ss.pettingzoo_env_to_vec_env_v0(env) for env in envs]\n",
    "\n",
    "# print('stacking vec env...')\n",
    "# nenvs = 2\n",
    "# envs = [ss.concat_vec_envs_v0(env, nenvs, num_cpus=1, base_class='stable_baselines3') for env in envs]"
   ]
  },
  {
   "cell_type": "code",
   "execution_count": 3,
   "metadata": {},
   "outputs": [
    {
     "data": {
      "text/plain": [
       "{'WWG001': <citylearn.energy_models.Building at 0x7f942467cb90>,\n",
       " 'GUI002': <citylearn.energy_models.Building at 0x7f9424689b90>,\n",
       " 'MY8003': <citylearn.energy_models.Building at 0x7f9424689810>,\n",
       " 'EKV004': <citylearn.energy_models.Building at 0x7f9424672c10>,\n",
       " '01A005': <citylearn.energy_models.Building at 0x7f9424672250>,\n",
       " 'W58006': <citylearn.energy_models.Building at 0x7f9424596150>,\n",
       " 'Q9G007': <citylearn.energy_models.Building at 0x7f9424689310>,\n",
       " 'HOB008': <citylearn.energy_models.Building at 0x7f942466bd90>,\n",
       " 'XDE009': <citylearn.energy_models.Building at 0x7f9424676c10>,\n",
       " 'C7R010': <citylearn.energy_models.Building at 0x7f942457cb90>,\n",
       " 'W0V011': <citylearn.energy_models.Building at 0x7f942466f790>,\n",
       " 'CTF012': <citylearn.energy_models.Building at 0x7f942466f190>,\n",
       " 'WRN013': <citylearn.energy_models.Building at 0x7f9424568510>,\n",
       " 'S9V014': <citylearn.energy_models.Building at 0x7f9424646810>,\n",
       " '7IF015': <citylearn.energy_models.Building at 0x7f942465c090>,\n",
       " 'C7H016': <citylearn.energy_models.Building at 0x7f9424599f50>,\n",
       " '9W7017': <citylearn.energy_models.Building at 0x7f94245994d0>,\n",
       " 'REE018': <citylearn.energy_models.Building at 0x7f9424679dd0>,\n",
       " 'ZCO019': <citylearn.energy_models.Building at 0x7f9424679f10>,\n",
       " 'IMV020': <citylearn.energy_models.Building at 0x7f9424573450>,\n",
       " 'FU1021': <citylearn.energy_models.Building at 0x7f9424599850>,\n",
       " '4FF022': <citylearn.energy_models.Building at 0x7f9408ddd790>,\n",
       " 'LJQ023': <citylearn.energy_models.Building at 0x7f940d964250>,\n",
       " 'ZK7024': <citylearn.energy_models.Building at 0x7f940b69e1d0>,\n",
       " 'TKS025': <citylearn.energy_models.Building at 0x7f9408ddd390>,\n",
       " '6CT026': <citylearn.energy_models.Building at 0x7f940d964d10>,\n",
       " 'EYV027': <citylearn.energy_models.Building at 0x7f940d964810>,\n",
       " 'I9I028': <citylearn.energy_models.Building at 0x7f940d964090>,\n",
       " 'M0D029': <citylearn.energy_models.Building at 0x7f9408ddd190>,\n",
       " 'S8N030': <citylearn.energy_models.Building at 0x7f940c0e4210>,\n",
       " 'NRH031': <citylearn.energy_models.Building at 0x7f940c0e4850>,\n",
       " 'NAT032': <citylearn.energy_models.Building at 0x7f94120d4b50>}"
      ]
     },
     "execution_count": 3,
     "metadata": {},
     "output_type": "execute_result"
    }
   ],
   "source": [
    "grid.buildings"
   ]
  },
  {
   "cell_type": "code",
   "execution_count": 4,
   "metadata": {},
   "outputs": [
    {
     "data": {
      "text/plain": [
       "[<matplotlib.lines.Line2D at 0x7f93fb6d80d0>]"
      ]
     },
     "execution_count": 4,
     "metadata": {},
     "output_type": "execute_result"
    },
    {
     "data": {
      "image/png": "[encoded data removed]",
      "text/plain": [
       "<Figure size 432x288 with 1 Axes>"
      ]
     },
     "metadata": {
      "needs_background": "light"
     },
     "output_type": "display_data"
    }
   ],
   "source": [
    "import matplotlib.pyplot as plt \n",
    "plt.plot(grid.weather.data['t_out'], alpha=0.3)"
   ]
  },
  {
   "cell_type": "code",
   "execution_count": 5,
   "metadata": {},
   "outputs": [
    {
     "ename": "KeyError",
     "evalue": "'88CD4'",
     "output_type": "error",
     "traceback": [
      "\u001b[0;31m---------------------------------------------------------------------------\u001b[0m",
      "\u001b[0;31mKeyError\u001b[0m                                  Traceback (most recent call last)",
      "\u001b[0;32m<ipython-input-5-ca8872a4b0fc>\u001b[0m in \u001b[0;36m<module>\u001b[0;34m()\u001b[0m\n\u001b[0;32m----> 1\u001b[0;31m \u001b[0mmy_x\u001b[0m \u001b[0;34m=\u001b[0m \u001b[0mgrid\u001b[0m\u001b[0;34m.\u001b[0m\u001b[0mnet\u001b[0m\u001b[0;34m.\u001b[0m\u001b[0mbus_geodata\u001b[0m\u001b[0;34m.\u001b[0m\u001b[0mloc\u001b[0m\u001b[0;34m[\u001b[0m\u001b[0mgrid\u001b[0m\u001b[0;34m.\u001b[0m\u001b[0mbuildings\u001b[0m\u001b[0;34m[\u001b[0m\u001b[0;34m'88CD4'\u001b[0m\u001b[0;34m]\u001b[0m\u001b[0;34m.\u001b[0m\u001b[0mbus\u001b[0m\u001b[0;34m]\u001b[0m\u001b[0;34m[\u001b[0m\u001b[0;34m'x'\u001b[0m\u001b[0;34m]\u001b[0m\u001b[0;34m\u001b[0m\u001b[0;34m\u001b[0m\u001b[0m\n\u001b[0m\u001b[1;32m      2\u001b[0m \u001b[0mmy_y\u001b[0m \u001b[0;34m=\u001b[0m \u001b[0mgrid\u001b[0m\u001b[0;34m.\u001b[0m\u001b[0mnet\u001b[0m\u001b[0;34m.\u001b[0m\u001b[0mbus_geodata\u001b[0m\u001b[0;34m.\u001b[0m\u001b[0mloc\u001b[0m\u001b[0;34m[\u001b[0m\u001b[0mgrid\u001b[0m\u001b[0;34m.\u001b[0m\u001b[0mbuildings\u001b[0m\u001b[0;34m[\u001b[0m\u001b[0;34m'88CD4'\u001b[0m\u001b[0;34m]\u001b[0m\u001b[0;34m.\u001b[0m\u001b[0mbus\u001b[0m\u001b[0;34m]\u001b[0m\u001b[0;34m[\u001b[0m\u001b[0;34m'y'\u001b[0m\u001b[0;34m]\u001b[0m\u001b[0;34m\u001b[0m\u001b[0;34m\u001b[0m\u001b[0m\n\u001b[1;32m      3\u001b[0m \u001b[0mgrid\u001b[0m\u001b[0;34m.\u001b[0m\u001b[0mnet\u001b[0m\u001b[0;34m.\u001b[0m\u001b[0mbus_geodata\u001b[0m\u001b[0;34m[\u001b[0m\u001b[0;34m'distance'\u001b[0m\u001b[0;34m]\u001b[0m \u001b[0;34m=\u001b[0m \u001b[0;34m(\u001b[0m\u001b[0mgrid\u001b[0m\u001b[0;34m.\u001b[0m\u001b[0mnet\u001b[0m\u001b[0;34m.\u001b[0m\u001b[0mbus_geodata\u001b[0m\u001b[0;34m[\u001b[0m\u001b[0;34m'x'\u001b[0m\u001b[0;34m]\u001b[0m\u001b[0;34m-\u001b[0m\u001b[0mmy_x\u001b[0m\u001b[0;34m)\u001b[0m\u001b[0;34m**\u001b[0m\u001b[0;36m2\u001b[0m \u001b[0;34m+\u001b[0m \u001b[0;34m(\u001b[0m\u001b[0mgrid\u001b[0m\u001b[0;34m.\u001b[0m\u001b[0mnet\u001b[0m\u001b[0;34m.\u001b[0m\u001b[0mbus_geodata\u001b[0m\u001b[0;34m[\u001b[0m\u001b[0;34m'y'\u001b[0m\u001b[0;34m]\u001b[0m\u001b[0;34m-\u001b[0m\u001b[0mmy_y\u001b[0m\u001b[0;34m)\u001b[0m\u001b[0;34m**\u001b[0m\u001b[0;36m2\u001b[0m\u001b[0;34m\u001b[0m\u001b[0;34m\u001b[0m\u001b[0m\n",
      "\u001b[0;31mKeyError\u001b[0m: '88CD4'"
     ]
    }
   ],
   "source": [
    "my_x = grid.net.bus_geodata.loc[grid.buildings['88CD4'].bus]['x']\n",
    "my_y = grid.net.bus_geodata.loc[grid.buildings['88CD4'].bus]['y']\n",
    "grid.net.bus_geodata['distance'] = (grid.net.bus_geodata['x']-my_x)**2 + (grid.net.bus_geodata['y']-my_y)**2"
   ]
  },
  {
   "cell_type": "code",
   "execution_count": null,
   "metadata": {},
   "outputs": [],
   "source": []
  }
 ],
 "metadata": {
  "kernelspec": {
   "display_name": "panda",
   "language": "python",
   "name": "panda"
  },
  "language_info": {
   "codemirror_mode": {
    "name": "ipython",
    "version": 3
   },
   "file_extension": ".py",
   "mimetype": "text/x-python",
   "name": "python",
   "nbconvert_exporter": "python",
   "pygments_lexer": "ipython3",
   "version": "3.7.9"
  }
 },
 "nbformat": 4,
 "nbformat_minor": 4
}
