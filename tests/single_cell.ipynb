{
 "cells": [
  {
   "cell_type": "code",
   "execution_count": null,
   "metadata": {},
   "outputs": [],
   "source": [
    "from gym.envs.registration import register\n",
    "from pathlib import Path\n",
    "import pandapower as pp\n",
    "from citylearn import GridLearn\n",
    "from stable_baselines3.sac.policies import MlpPolicy\n",
    "from stable_baselines3 import SAC\n",
    "import gym\n",
    "\n",
    "grid = GridLearn() # to do later: pull grid out of the initial conditions, make external set_grid method\n",
    "\n",
    "climate_zone = 1\n",
    "data_path = Path(\"../citylearn/data/Climate_Zone_\"+str(climate_zone))\n",
    "buildings_states_actions = '../citylearn/buildings_state_action_space.json'\n",
    "\n",
    "config = {\n",
    "    \"data_path\":data_path,\n",
    "    \"climate_zone\":climate_zone,\n",
    "    \"buildings_states_actions_file\":buildings_states_actions,\n",
    "    \"hourly_timesteps\":2,\n",
    "    \"grid\":grid,\n",
    "}\n",
    "\n",
    "register(\n",
    "    id='buildings-v2',\n",
    "    entry_point='citylearn.energy_models:Building',\n",
    "    max_episode_steps=1000,\n",
    "    reward_threshold=0.0,\n",
    "    kwargs=config\n",
    ")"
   ]
  },
  {
   "cell_type": "code",
   "execution_count": null,
   "metadata": {},
   "outputs": [],
   "source": [
    "models = []\n",
    "envs = []\n",
    "for i in range(32):\n",
    "    env = gym.make(\"buildings-v2\")\n",
    "    envs += [env]\n",
    "    models += [SAC(MlpPolicy, env, verbose=0, learning_rate=0.01, gamma=0.99, tau=3e-4, batch_size=64, learning_starts=4)]"
   ]
  },
  {
   "cell_type": "code",
   "execution_count": null,
   "metadata": {},
   "outputs": [],
   "source": [
    "for i in range(5):\n",
    "    for m in range(len(models)):\n",
    "        models[m].learn(1)"
   ]
  },
  {
   "cell_type": "code",
   "execution_count": null,
   "metadata": {},
   "outputs": [],
   "source": [
    "models[4].actor.parameters_to_vector()"
   ]
  },
  {
   "cell_type": "code",
   "execution_count": null,
   "metadata": {
    "scrolled": true
   },
   "outputs": [],
   "source": [
    "# check what the building loads are\n",
    "env.grid.net.load"
   ]
  },
  {
   "cell_type": "code",
   "execution_count": null,
   "metadata": {},
   "outputs": [],
   "source": [
    "# iterate through 1 timestep\n",
    "for _ in range(1):\n",
    "    for env in envs:\n",
    "        action = [0,0,0,0]\n",
    "        obs, rewards, dones, info = env.step(action)"
   ]
  },
  {
   "cell_type": "code",
   "execution_count": null,
   "metadata": {
    "scrolled": true
   },
   "outputs": [],
   "source": [
    "# check that the building loads have changed\n",
    "env.grid.net.load"
   ]
  },
  {
   "cell_type": "code",
   "execution_count": null,
   "metadata": {},
   "outputs": [],
   "source": []
  }
 ],
 "metadata": {
  "kernelspec": {
   "display_name": "panda",
   "language": "python",
   "name": "panda"
  },
  "language_info": {
   "codemirror_mode": {
    "name": "ipython",
    "version": 3
   },
   "file_extension": ".py",
   "mimetype": "text/x-python",
   "name": "python",
   "nbconvert_exporter": "python",
   "pygments_lexer": "ipython3",
   "version": "3.7.9"
  }
 },
 "nbformat": 4,
 "nbformat_minor": 4
}
